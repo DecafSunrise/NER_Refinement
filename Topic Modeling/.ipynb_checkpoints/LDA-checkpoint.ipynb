{
 "cells": [
  {
   "cell_type": "markdown",
   "metadata": {},
   "source": [
    "https://www.machinelearningplus.com/nlp/topic-modeling-gensim-python/"
   ]
  },
  {
   "cell_type": "code",
   "execution_count": 5,
   "metadata": {},
   "outputs": [
    {
     "name": "stderr",
     "output_type": "stream",
     "text": [
      "C:\\ProgramData\\Anaconda3\\envs\\Coding\\lib\\site-packages\\ipykernel\\ipkernel.py:287: DeprecationWarning: `should_run_async` will not call `transform_cell` automatically in the future. Please pass the result to `transformed_cell` argument and any exception that happen during thetransform in `preprocessing_exc_tuple` in IPython 7.17 and above.\n",
      "  and should_run_async(code)\n"
     ]
    }
   ],
   "source": [
    "import re\n",
    "import numpy as np\n",
    "import pandas as pd\n",
    "from pprint import pprint\n",
    "\n",
    "# Gensim\n",
    "import gensim\n",
    "import gensim.corpora as corpora\n",
    "from gensim.utils import simple_preprocess\n",
    "from gensim.models import CoherenceModel\n",
    "\n",
    "import nltk\n",
    "\n",
    "# spacy for lemmatization\n",
    "import spacy\n",
    "\n",
    "# Plotting tools\n",
    "import matplotlib.pyplot as plt\n",
    "%matplotlib inline\n",
    "\n",
    "# Enable logging for gensim - optional\n",
    "# import logging\n",
    "# logging.basicConfig(format='%(asctime)s : %(levelname)s : %(message)s', level=logging.ERROR)\n",
    "\n",
    "import warnings\n",
    "warnings.filterwarnings(\"ignore\",category=DeprecationWarning)"
   ]
  },
  {
   "cell_type": "code",
   "execution_count": 8,
   "metadata": {},
   "outputs": [],
   "source": [
    "import pyLDAvis\n",
    "# from pyLDAvis import pyLDAvis.gensim  # don't skip this"
   ]
  },
  {
   "cell_type": "code",
   "execution_count": 9,
   "metadata": {},
   "outputs": [],
   "source": [
    "# NLTK Stop words\n",
    "from nltk.corpus import stopwords\n",
    "stop_words = stopwords.words('english')\n",
    "stop_words.extend(['from', 'subject', 're', 'edu', 'use'])"
   ]
  },
  {
   "cell_type": "code",
   "execution_count": 10,
   "metadata": {},
   "outputs": [
    {
     "name": "stdout",
     "output_type": "stream",
     "text": [
      "['rec.autos' 'comp.sys.mac.hardware' 'comp.graphics' 'sci.space'\n",
      " 'talk.politics.guns' 'sci.med' 'comp.sys.ibm.pc.hardware'\n",
      " 'comp.os.ms-windows.misc' 'rec.motorcycles' 'talk.religion.misc'\n",
      " 'misc.forsale' 'alt.atheism' 'sci.electronics' 'comp.windows.x'\n",
      " 'rec.sport.hockey' 'rec.sport.baseball' 'soc.religion.christian'\n",
      " 'talk.politics.mideast' 'talk.politics.misc' 'sci.crypt']\n"
     ]
    },
    {
     "data": {
      "text/html": [
       "<div>\n",
       "<style scoped>\n",
       "    .dataframe tbody tr th:only-of-type {\n",
       "        vertical-align: middle;\n",
       "    }\n",
       "\n",
       "    .dataframe tbody tr th {\n",
       "        vertical-align: top;\n",
       "    }\n",
       "\n",
       "    .dataframe thead th {\n",
       "        text-align: right;\n",
       "    }\n",
       "</style>\n",
       "<table border=\"1\" class=\"dataframe\">\n",
       "  <thead>\n",
       "    <tr style=\"text-align: right;\">\n",
       "      <th></th>\n",
       "      <th>content</th>\n",
       "      <th>target</th>\n",
       "      <th>target_names</th>\n",
       "    </tr>\n",
       "  </thead>\n",
       "  <tbody>\n",
       "    <tr>\n",
       "      <th>0</th>\n",
       "      <td>From: lerxst@wam.umd.edu (where's my thing)\\nS...</td>\n",
       "      <td>7</td>\n",
       "      <td>rec.autos</td>\n",
       "    </tr>\n",
       "    <tr>\n",
       "      <th>1</th>\n",
       "      <td>From: guykuo@carson.u.washington.edu (Guy Kuo)...</td>\n",
       "      <td>4</td>\n",
       "      <td>comp.sys.mac.hardware</td>\n",
       "    </tr>\n",
       "    <tr>\n",
       "      <th>2</th>\n",
       "      <td>From: twillis@ec.ecn.purdue.edu (Thomas E Will...</td>\n",
       "      <td>4</td>\n",
       "      <td>comp.sys.mac.hardware</td>\n",
       "    </tr>\n",
       "    <tr>\n",
       "      <th>3</th>\n",
       "      <td>From: jgreen@amber (Joe Green)\\nSubject: Re: W...</td>\n",
       "      <td>1</td>\n",
       "      <td>comp.graphics</td>\n",
       "    </tr>\n",
       "    <tr>\n",
       "      <th>4</th>\n",
       "      <td>From: jcm@head-cfa.harvard.edu (Jonathan McDow...</td>\n",
       "      <td>14</td>\n",
       "      <td>sci.space</td>\n",
       "    </tr>\n",
       "  </tbody>\n",
       "</table>\n",
       "</div>"
      ],
      "text/plain": [
       "                                             content  target  \\\n",
       "0  From: lerxst@wam.umd.edu (where's my thing)\\nS...       7   \n",
       "1  From: guykuo@carson.u.washington.edu (Guy Kuo)...       4   \n",
       "2  From: twillis@ec.ecn.purdue.edu (Thomas E Will...       4   \n",
       "3  From: jgreen@amber (Joe Green)\\nSubject: Re: W...       1   \n",
       "4  From: jcm@head-cfa.harvard.edu (Jonathan McDow...      14   \n",
       "\n",
       "            target_names  \n",
       "0              rec.autos  \n",
       "1  comp.sys.mac.hardware  \n",
       "2  comp.sys.mac.hardware  \n",
       "3          comp.graphics  \n",
       "4              sci.space  "
      ]
     },
     "execution_count": 10,
     "metadata": {},
     "output_type": "execute_result"
    }
   ],
   "source": [
    "# Import Dataset\n",
    "df = pd.read_json('https://raw.githubusercontent.com/selva86/datasets/master/newsgroups.json')\n",
    "print(df.target_names.unique())\n",
    "df.head()"
   ]
  },
  {
   "cell_type": "code",
   "execution_count": 11,
   "metadata": {},
   "outputs": [
    {
     "name": "stdout",
     "output_type": "stream",
     "text": [
      "['From: (wheres my thing) Subject: WHAT car is this!? Nntp-Posting-Host: '\n",
      " 'rac3.wam.umd.edu Organization: University of Maryland, College Park Lines: '\n",
      " '15 I was wondering if anyone out there could enlighten me on this car I saw '\n",
      " 'the other day. It was a 2-door sports car, looked to be from the late 60s/ '\n",
      " 'early 70s. It was called a Bricklin. The doors were really small. In '\n",
      " 'addition, the front bumper was separate from the rest of the body. This is '\n",
      " 'all I know. If anyone can tellme a model name, engine specs, years of '\n",
      " 'production, where this car is made, history, or whatever info you have on '\n",
      " 'this funky looking car, please e-mail. Thanks, - IL ---- brought to you by '\n",
      " 'your neighborhood Lerxst ---- ']\n"
     ]
    }
   ],
   "source": [
    "# Convert to list\n",
    "data = df.content.values.tolist()\n",
    "\n",
    "# Remove Emails\n",
    "data = [re.sub('\\S*@\\S*\\s?', '', sent) for sent in data]\n",
    "\n",
    "# Remove new line characters\n",
    "data = [re.sub('\\s+', ' ', sent) for sent in data]\n",
    "\n",
    "# Remove distracting single quotes\n",
    "data = [re.sub(\"\\'\", \"\", sent) for sent in data]\n",
    "\n",
    "pprint(data[:1])"
   ]
  },
  {
   "cell_type": "code",
   "execution_count": 12,
   "metadata": {},
   "outputs": [
    {
     "name": "stdout",
     "output_type": "stream",
     "text": [
      "[['from', 'wheres', 'my', 'thing', 'subject', 'what', 'car', 'is', 'this', 'nntp', 'posting', 'host', 'rac', 'wam', 'umd', 'edu', 'organization', 'university', 'of', 'maryland', 'college', 'park', 'lines', 'was', 'wondering', 'if', 'anyone', 'out', 'there', 'could', 'enlighten', 'me', 'on', 'this', 'car', 'saw', 'the', 'other', 'day', 'it', 'was', 'door', 'sports', 'car', 'looked', 'to', 'be', 'from', 'the', 'late', 'early', 'it', 'was', 'called', 'bricklin', 'the', 'doors', 'were', 'really', 'small', 'in', 'addition', 'the', 'front', 'bumper', 'was', 'separate', 'from', 'the', 'rest', 'of', 'the', 'body', 'this', 'is', 'all', 'know', 'if', 'anyone', 'can', 'tellme', 'model', 'name', 'engine', 'specs', 'years', 'of', 'production', 'where', 'this', 'car', 'is', 'made', 'history', 'or', 'whatever', 'info', 'you', 'have', 'on', 'this', 'funky', 'looking', 'car', 'please', 'mail', 'thanks', 'il', 'brought', 'to', 'you', 'by', 'your', 'neighborhood', 'lerxst']]\n"
     ]
    }
   ],
   "source": [
    "def sent_to_words(sentences):\n",
    "    for sentence in sentences:\n",
    "        yield(gensim.utils.simple_preprocess(str(sentence), deacc=True))  # deacc=True removes punctuations\n",
    "\n",
    "data_words = list(sent_to_words(data))\n",
    "\n",
    "print(data_words[:1])"
   ]
  },
  {
   "cell_type": "code",
   "execution_count": 13,
   "metadata": {},
   "outputs": [
    {
     "name": "stdout",
     "output_type": "stream",
     "text": [
      "['from', 'wheres', 'my', 'thing', 'subject', 'what', 'car', 'is', 'this', 'nntp_posting_host', 'rac_wam_umd_edu', 'organization', 'university', 'of', 'maryland_college_park', 'lines', 'was', 'wondering', 'if', 'anyone', 'out', 'there', 'could', 'enlighten', 'me', 'on', 'this', 'car', 'saw', 'the', 'other', 'day', 'it', 'was', 'door', 'sports', 'car', 'looked', 'to', 'be', 'from', 'the', 'late', 'early', 'it', 'was', 'called', 'bricklin', 'the', 'doors', 'were', 'really', 'small', 'in', 'addition', 'the', 'front_bumper', 'was', 'separate', 'from', 'the', 'rest', 'of', 'the', 'body', 'this', 'is', 'all', 'know', 'if', 'anyone', 'can', 'tellme', 'model', 'name', 'engine', 'specs', 'years', 'of', 'production', 'where', 'this', 'car', 'is', 'made', 'history', 'or', 'whatever', 'info', 'you', 'have', 'on', 'this', 'funky', 'looking', 'car', 'please', 'mail', 'thanks', 'il', 'brought', 'to', 'you', 'by', 'your', 'neighborhood', 'lerxst']\n"
     ]
    }
   ],
   "source": [
    "# Build the bigram and trigram models\n",
    "bigram = gensim.models.Phrases(data_words, min_count=5, threshold=100) # higher threshold fewer phrases.\n",
    "trigram = gensim.models.Phrases(bigram[data_words], threshold=100)  \n",
    "\n",
    "# Faster way to get a sentence clubbed as a trigram/bigram\n",
    "bigram_mod = gensim.models.phrases.Phraser(bigram)\n",
    "trigram_mod = gensim.models.phrases.Phraser(trigram)\n",
    "\n",
    "# See trigram example\n",
    "print(trigram_mod[bigram_mod[data_words[0]]])"
   ]
  },
  {
   "cell_type": "code",
   "execution_count": 14,
   "metadata": {},
   "outputs": [],
   "source": [
    "# Define functions for stopwords, bigrams, trigrams and lemmatization\n",
    "def remove_stopwords(texts):\n",
    "    return [[word for word in simple_preprocess(str(doc)) if word not in stop_words] for doc in texts]\n",
    "\n",
    "def make_bigrams(texts):\n",
    "    return [bigram_mod[doc] for doc in texts]\n",
    "\n",
    "def make_trigrams(texts):\n",
    "    return [trigram_mod[bigram_mod[doc]] for doc in texts]\n",
    "\n",
    "def lemmatization(texts, allowed_postags=['NOUN', 'ADJ', 'VERB', 'ADV']):\n",
    "    \"\"\"https://spacy.io/api/annotation\"\"\"\n",
    "    texts_out = []\n",
    "    for sent in texts:\n",
    "        doc = nlp(\" \".join(sent)) \n",
    "        texts_out.append([token.lemma_ for token in doc if token.pos_ in allowed_postags])\n",
    "    return texts_out"
   ]
  },
  {
   "cell_type": "code",
   "execution_count": 16,
   "metadata": {},
   "outputs": [
    {
     "name": "stdout",
     "output_type": "stream",
     "text": [
      "[['where', 'thing', 'car', 'nntp_posting', 'host', 'line', 'wonder', 'could', 'enlighten', 'car', 'see', 'day', 'door', 'sport', 'car', 'look', 'late', 'early', 'call', 'bricklin', 'door', 'really', 'small', 'addition', 'separate', 'rest', 'body', 'know', 'name', 'engine', 'spec', 'year', 'production', 'car', 'make', 'history', 'info', 'funky', 'look', 'car', 'mail', 'thank', 'bring']]\n"
     ]
    }
   ],
   "source": [
    "# Remove Stop Words\n",
    "data_words_nostops = remove_stopwords(data_words)\n",
    "\n",
    "# Form Bigrams\n",
    "data_words_bigrams = make_bigrams(data_words_nostops)\n",
    "\n",
    "# Initialize spacy 'en' model, keeping only tagger component (for efficiency)\n",
    "# python3 -m spacy download en\n",
    "nlp = spacy.load('en_core_web_lg', disable=['parser', 'ner'])\n",
    "\n",
    "# Do lemmatization keeping only noun, adj, vb, adv\n",
    "data_lemmatized = lemmatization(data_words_bigrams, allowed_postags=['NOUN', 'ADJ', 'VERB', 'ADV'])\n",
    "\n",
    "print(data_lemmatized[:1])"
   ]
  },
  {
   "cell_type": "code",
   "execution_count": 17,
   "metadata": {},
   "outputs": [
    {
     "name": "stdout",
     "output_type": "stream",
     "text": [
      "[[(0, 1), (1, 1), (2, 1), (3, 1), (4, 1), (5, 5), (6, 1), (7, 1), (8, 2), (9, 1), (10, 1), (11, 1), (12, 1), (13, 1), (14, 1), (15, 1), (16, 1), (17, 1), (18, 1), (19, 2), (20, 1), (21, 1), (22, 1), (23, 1), (24, 1), (25, 1), (26, 1), (27, 1), (28, 1), (29, 1), (30, 1), (31, 1), (32, 1), (33, 1), (34, 1), (35, 1), (36, 1)]]\n"
     ]
    }
   ],
   "source": [
    "# Create Dictionary\n",
    "id2word = corpora.Dictionary(data_lemmatized)\n",
    "\n",
    "# Create Corpus\n",
    "texts = data_lemmatized\n",
    "\n",
    "# Term Document Frequency\n",
    "corpus = [id2word.doc2bow(text) for text in texts]\n",
    "\n",
    "# View\n",
    "print(corpus[:1])"
   ]
  },
  {
   "cell_type": "code",
   "execution_count": 19,
   "metadata": {},
   "outputs": [
    {
     "data": {
      "text/plain": [
       "[[('addition', 1),\n",
       "  ('body', 1),\n",
       "  ('bricklin', 1),\n",
       "  ('bring', 1),\n",
       "  ('call', 1),\n",
       "  ('car', 5),\n",
       "  ('could', 1),\n",
       "  ('day', 1),\n",
       "  ('door', 2),\n",
       "  ('early', 1),\n",
       "  ('engine', 1),\n",
       "  ('enlighten', 1),\n",
       "  ('funky', 1),\n",
       "  ('history', 1),\n",
       "  ('host', 1),\n",
       "  ('info', 1),\n",
       "  ('know', 1),\n",
       "  ('late', 1),\n",
       "  ('line', 1),\n",
       "  ('look', 2),\n",
       "  ('mail', 1),\n",
       "  ('make', 1),\n",
       "  ('name', 1),\n",
       "  ('nntp_posting', 1),\n",
       "  ('production', 1),\n",
       "  ('really', 1),\n",
       "  ('rest', 1),\n",
       "  ('see', 1),\n",
       "  ('separate', 1),\n",
       "  ('small', 1),\n",
       "  ('spec', 1),\n",
       "  ('sport', 1),\n",
       "  ('thank', 1),\n",
       "  ('thing', 1),\n",
       "  ('where', 1),\n",
       "  ('wonder', 1),\n",
       "  ('year', 1)]]"
      ]
     },
     "execution_count": 19,
     "metadata": {},
     "output_type": "execute_result"
    }
   ],
   "source": [
    "## Check a single word\n",
    "# id2word[0]\n",
    "\n",
    "# Human readable format of corpus (term-frequency)\n",
    "[[(id2word[id], freq) for id, freq in cp] for cp in corpus[:1]]"
   ]
  },
  {
   "cell_type": "code",
   "execution_count": 20,
   "metadata": {},
   "outputs": [],
   "source": [
    "# Build LDA model\n",
    "lda_model = gensim.models.ldamodel.LdaModel(corpus=corpus,\n",
    "                                           id2word=id2word,\n",
    "                                           num_topics=20, \n",
    "                                           random_state=100,\n",
    "                                           update_every=1,\n",
    "                                           chunksize=100,\n",
    "                                           passes=10,\n",
    "                                           alpha='auto',\n",
    "                                           per_word_topics=True)"
   ]
  },
  {
   "cell_type": "code",
   "execution_count": 21,
   "metadata": {},
   "outputs": [
    {
     "name": "stdout",
     "output_type": "stream",
     "text": [
      "[(0,\n",
      "  '0.042*\"include\" + 0.036*\"program\" + 0.032*\"source\" + 0.028*\"available\" + '\n",
      "  '0.027*\"information\" + 0.023*\"provide\" + 0.021*\"may\" + 0.020*\"number\" + '\n",
      "  '0.019*\"code\" + 0.019*\"also\"'),\n",
      " (1,\n",
      "  '0.824*\"ax\" + 0.063*\"max\" + 0.009*\"dual\" + 0.005*\"film\" + 0.004*\"correction\" '\n",
      "  '+ 0.004*\"brand\" + 0.004*\"plot\" + 0.003*\"payment\" + 0.001*\"bare\" + '\n",
      "  '0.000*\"arrow\"'),\n",
      " (2,\n",
      "  '0.158*\"file\" + 0.072*\"entry\" + 0.048*\"graphic\" + 0.037*\"notice\" + '\n",
      "  '0.029*\"sorry\" + 0.029*\"format\" + 0.028*\"printer\" + 0.025*\"convert\" + '\n",
      "  '0.025*\"hot\" + 0.022*\"cool\"'),\n",
      " (3,\n",
      "  '0.056*\"image\" + 0.056*\"bit\" + 0.050*\"color\" + 0.046*\"chip\" + '\n",
      "  '0.042*\"display\" + 0.038*\"memory\" + 0.036*\"slow\" + 0.035*\"monitor\" + '\n",
      "  '0.034*\"character\" + 0.026*\"board\"'),\n",
      " (4,\n",
      "  '0.065*\"drug\" + 0.052*\"mount\" + 0.046*\"wing\" + 0.045*\"headache\" + '\n",
      "  '0.041*\"recommend\" + 0.041*\"treatment\" + 0.039*\"external\" + 0.036*\"doctor\" + '\n",
      "  '0.034*\"boy\" + 0.031*\"should\"'),\n",
      " (5,\n",
      "  '0.118*\"space\" + 0.037*\"launch\" + 0.033*\"science\" + 0.031*\"scientific\" + '\n",
      "  '0.029*\"orbit\" + 0.025*\"mission\" + 0.025*\"earth\" + 0.023*\"plane\" + '\n",
      "  '0.023*\"satellite\" + 0.021*\"surface\"'),\n",
      " (6,\n",
      "  '0.105*\"israeli\" + 0.069*\"choice\" + 0.063*\"route\" + 0.057*\"bomb\" + '\n",
      "  '0.052*\"processor\" + 0.043*\"link\" + 0.041*\"arab\" + 0.033*\"creation\" + '\n",
      "  '0.031*\"blood\" + 0.030*\"jewish\"'),\n",
      " (7,\n",
      "  '0.171*\"card\" + 0.109*\"player\" + 0.095*\"sale\" + 0.072*\"tape\" + '\n",
      "  '0.043*\"purchase\" + 0.026*\"double\" + 0.025*\"cap\" + 0.023*\"duo\" + '\n",
      "  '0.022*\"registration\" + 0.020*\"expansion\"'),\n",
      " (8,\n",
      "  '0.071*\"drive\" + 0.029*\"high\" + 0.024*\"test\" + 0.022*\"power\" + 0.019*\"speed\" '\n",
      "  '+ 0.019*\"model\" + 0.018*\"fast\" + 0.017*\"disk\" + 0.017*\"design\" + '\n",
      "  '0.017*\"low\"'),\n",
      " (9,\n",
      "  '0.120*\"line\" + 0.060*\"host\" + 0.050*\"organization\" + 0.046*\"nntp_poste\" + '\n",
      "  '0.031*\"thank\" + 0.030*\"reply\" + 0.025*\"mail\" + 0.023*\"help\" + 0.023*\"post\" '\n",
      "  '+ 0.022*\"new\"'),\n",
      " (10,\n",
      "  '0.124*\"car\" + 0.099*\"buy\" + 0.080*\"price\" + 0.067*\"sell\" + 0.065*\"cost\" + '\n",
      "  '0.044*\"pay\" + 0.032*\"family\" + 0.024*\"owner\" + 0.022*\"dealer\" + '\n",
      "  '0.021*\"money\"'),\n",
      " (11,\n",
      "  '0.034*\"year\" + 0.021*\"first\" + 0.016*\"last\" + 0.016*\"time\" + 0.016*\"go\" + '\n",
      "  '0.016*\"team\" + 0.014*\"game\" + 0.012*\"get\" + 0.011*\"next\" + 0.011*\"play\"'),\n",
      " (12,\n",
      "  '0.069*\"system\" + 0.052*\"use\" + 0.034*\"problem\" + 0.030*\"run\" + '\n",
      "  '0.028*\"window\" + 0.024*\"software\" + 0.024*\"driver\" + 0.024*\"work\" + '\n",
      "  '0.024*\"set\" + 0.021*\"machine\"'),\n",
      " (13,\n",
      "  '0.082*\"wire\" + 0.072*\"cpu\" + 0.062*\"bus\" + 0.061*\"center\" + '\n",
      "  '0.055*\"internal\" + 0.043*\"option\" + 0.040*\"upgrade\" + 0.037*\"cable\" + '\n",
      "  '0.032*\"mirror\" + 0.027*\"clock\"'),\n",
      " (14,\n",
      "  '0.029*\"write\" + 0.028*\"would\" + 0.021*\"article\" + 0.018*\"know\" + '\n",
      "  '0.017*\"make\" + 0.017*\"think\" + 0.016*\"be\" + 0.016*\"say\" + 0.012*\"people\" + '\n",
      "  '0.012*\"see\"'),\n",
      " (15,\n",
      "  '0.045*\"kill\" + 0.035*\"child\" + 0.026*\"death\" + 0.025*\"government\" + '\n",
      "  '0.025*\"war\" + 0.024*\"woman\" + 0.024*\"attack\" + 0.024*\"soldier\" + '\n",
      "  '0.023*\"people\" + 0.023*\"man\"'),\n",
      " (16,\n",
      "  '0.044*\"book\" + 0.036*\"member\" + 0.032*\"church\" + 0.030*\"black\" + '\n",
      "  '0.030*\"issue\" + 0.029*\"publish\" + 0.026*\"deny\" + 0.025*\"authority\" + '\n",
      "  '0.023*\"section\" + 0.021*\"clearly\"'),\n",
      " (17,\n",
      "  '0.070*\"gun\" + 0.032*\"state\" + 0.024*\"crime\" + 0.022*\"community\" + '\n",
      "  '0.022*\"weapon\" + 0.021*\"safety\" + 0.021*\"firearm\" + 0.020*\"police\" + '\n",
      "  '0.020*\"ignore\" + 0.019*\"public\"'),\n",
      " (18,\n",
      "  '0.097*\"key\" + 0.049*\"government\" + 0.038*\"public\" + 0.031*\"technology\" + '\n",
      "  '0.029*\"internet\" + 0.027*\"encryption\" + 0.025*\"chip\" + 0.024*\"security\" + '\n",
      "  '0.023*\"season\" + 0.021*\"private\"'),\n",
      " (19,\n",
      "  '0.028*\"evidence\" + 0.023*\"reason\" + 0.022*\"believe\" + 0.019*\"claim\" + '\n",
      "  '0.016*\"sense\" + 0.015*\"exist\" + 0.013*\"people\" + 0.013*\"faith\" + '\n",
      "  '0.013*\"law\" + 0.012*\"say\"')]\n"
     ]
    }
   ],
   "source": [
    "# Print the Keyword in the 10 topics\n",
    "pprint(lda_model.print_topics())\n",
    "doc_lda = lda_model[corpus]"
   ]
  },
  {
   "cell_type": "code",
   "execution_count": 25,
   "metadata": {},
   "outputs": [],
   "source": [
    "from gensim.test.utils import common_corpus, common_dictionary\n",
    "lda = gensim.models.LdaMulticore(corpus=corpus,\n",
    "                   id2word=id2word,\n",
    "                   num_topics=20, \n",
    "                   random_state=100,\n",
    "                   chunksize=100,\n",
    "                   passes=10,\n",
    "                   per_word_topics=True)"
   ]
  },
  {
   "cell_type": "code",
   "execution_count": 26,
   "metadata": {},
   "outputs": [
    {
     "name": "stdout",
     "output_type": "stream",
     "text": [
      "[(0,\n",
      "  '0.023*\"gun\" + 0.016*\"write\" + 0.014*\"would\" + 0.013*\"article\" + '\n",
      "  '0.011*\"line\" + 0.009*\"be\" + 0.009*\"think\" + 0.008*\"well\" + 0.007*\"point\" + '\n",
      "  '0.006*\"get\"'),\n",
      " (1,\n",
      "  '0.017*\"say\" + 0.014*\"go\" + 0.011*\"write\" + 0.009*\"see\" + 0.009*\"people\" + '\n",
      "  '0.008*\"come\" + 0.008*\"would\" + 0.008*\"article\" + 0.008*\"line\" + '\n",
      "  '0.007*\"know\"'),\n",
      " (2,\n",
      "  '0.027*\"file\" + 0.013*\"program\" + 0.013*\"entry\" + 0.008*\"use\" + 0.008*\"font\" '\n",
      "  '+ 0.008*\"wire\" + 0.007*\"include\" + 0.007*\"line\" + 0.007*\"output\" + '\n",
      "  '0.006*\"character\"'),\n",
      " (3,\n",
      "  '0.018*\"space\" + 0.010*\"launch\" + 0.008*\"system\" + 0.007*\"orbit\" + '\n",
      "  '0.007*\"mission\" + 0.006*\"write\" + 0.006*\"earth\" + 0.006*\"would\" + '\n",
      "  '0.006*\"satellite\" + 0.006*\"science\"'),\n",
      " (4,\n",
      "  '0.873*\"ax\" + 0.065*\"max\" + 0.004*\"di_di\" + 0.001*\"pl_pl\" + 0.001*\"ei_ei\" + '\n",
      "  '0.001*\"qq\" + 0.001*\"qax\" + 0.001*\"bhj_bhj\" + 0.001*\"giz_giz\" + '\n",
      "  '0.000*\"chlorine\"'),\n",
      " (5,\n",
      "  '0.011*\"israeli\" + 0.009*\"report\" + 0.008*\"kill\" + 0.007*\"attack\" + '\n",
      "  '0.006*\"year\" + 0.006*\"would\" + 0.005*\"state\" + 0.005*\"child\" + 0.005*\"arab\" '\n",
      "  '+ 0.005*\"article\"'),\n",
      " (6,\n",
      "  '0.013*\"say\" + 0.011*\"believe\" + 0.010*\"write\" + 0.009*\"would\" + '\n",
      "  '0.009*\"people\" + 0.009*\"think\" + 0.008*\"know\" + 0.007*\"may\" + 0.007*\"make\" '\n",
      "  '+ 0.006*\"evidence\"'),\n",
      " (7,\n",
      "  '0.015*\"would\" + 0.012*\"_\" + 0.012*\"write\" + 0.011*\"be\" + 0.010*\"line\" + '\n",
      "  '0.009*\"article\" + 0.009*\"cost\" + 0.008*\"organization\" + 0.007*\"d\" + '\n",
      "  '0.007*\"sound\"'),\n",
      " (8,\n",
      "  '0.016*\"line\" + 0.009*\"use\" + 0.009*\"file\" + 0.008*\"window\" + '\n",
      "  '0.008*\"program\" + 0.007*\"write\" + 0.007*\"also\" + 0.007*\"know\" + '\n",
      "  '0.007*\"available\" + 0.007*\"run\"'),\n",
      " (9,\n",
      "  '0.015*\"line\" + 0.009*\"organization\" + 0.008*\"list\" + 0.008*\"mail\" + '\n",
      "  '0.007*\"article\" + 0.007*\"host\" + 0.007*\"address\" + 0.006*\"email\" + '\n",
      "  '0.006*\"write\" + 0.006*\"post\"'),\n",
      " (10,\n",
      "  '0.023*\"key\" + 0.012*\"government\" + 0.010*\"would\" + 0.009*\"encryption\" + '\n",
      "  '0.009*\"public\" + 0.008*\"system\" + 0.008*\"use\" + 0.006*\"security\" + '\n",
      "  '0.006*\"chip\" + 0.006*\"make\"'),\n",
      " (11,\n",
      "  '0.019*\"game\" + 0.018*\"team\" + 0.015*\"year\" + 0.013*\"line\" + 0.013*\"play\" + '\n",
      "  '0.012*\"write\" + 0.011*\"player\" + 0.011*\"go\" + 0.010*\"good\" + 0.010*\"would\"'),\n",
      " (12,\n",
      "  '0.013*\"use\" + 0.013*\"problem\" + 0.012*\"line\" + 0.011*\"write\" + '\n",
      "  '0.010*\"system\" + 0.009*\"driver\" + 0.009*\"work\" + 0.009*\"drive\" + '\n",
      "  '0.008*\"card\" + 0.007*\"disk\"'),\n",
      " (13,\n",
      "  '0.026*\"line\" + 0.014*\"host\" + 0.013*\"write\" + 0.012*\"buy\" + 0.012*\"be\" + '\n",
      "  '0.012*\"get\" + 0.012*\"article\" + 0.011*\"price\" + 0.011*\"nntp_poste\" + '\n",
      "  '0.011*\"would\"'),\n",
      " (14,\n",
      "  '0.013*\"people\" + 0.013*\"would\" + 0.012*\"go\" + 0.012*\"know\" + 0.012*\"be\" + '\n",
      "  '0.011*\"think\" + 0.011*\"write\" + 0.011*\"make\" + 0.010*\"say\" + '\n",
      "  '0.008*\"article\"'),\n",
      " (15,\n",
      "  '0.016*\"people\" + 0.013*\"turkish\" + 0.012*\"armenian\" + 0.010*\"government\" + '\n",
      "  '0.009*\"right\" + 0.006*\"war\" + 0.006*\"first\" + 0.006*\"genocide\" + '\n",
      "  '0.006*\"write\" + 0.006*\"militia\"'),\n",
      " (16,\n",
      "  '0.021*\"plane\" + 0.010*\"line\" + 0.007*\"excellent\" + 0.007*\"beep\" + '\n",
      "  '0.007*\"train\" + 0.006*\"good\" + 0.006*\"ticket\" + 0.006*\"conference\" + '\n",
      "  '0.006*\"iranian\" + 0.006*\"point\"'),\n",
      " (17,\n",
      "  '0.043*\"drive\" + 0.023*\"car\" + 0.012*\"bike\" + 0.009*\"jumper\" + 0.009*\"write\" '\n",
      "  '+ 0.008*\"engine\" + 0.008*\"light\" + 0.008*\"master\" + 0.007*\"tape\" + '\n",
      "  '0.007*\"power\"'),\n",
      " (18,\n",
      "  '0.016*\"lose\" + 0.013*\"captain\" + 0.010*\"nntp_poste\" + 0.010*\"line\" + '\n",
      "  '0.008*\"comet\" + 0.008*\"host\" + 0.007*\"write\" + 0.007*\"compound\" + '\n",
      "  '0.006*\"believe\" + 0.006*\"would\"'),\n",
      " (19,\n",
      "  '0.021*\"law\" + 0.011*\"state\" + 0.010*\"would\" + 0.010*\"people\" + '\n",
      "  '0.007*\"write\" + 0.007*\"case\" + 0.007*\"crime\" + 0.007*\"say\" + 0.006*\"drug\" + '\n",
      "  '0.006*\"right\"')]\n"
     ]
    }
   ],
   "source": [
    "# Print the Keyword in the 10 topics\n",
    "pprint(lda.print_topics())\n",
    "doc_lda = lda[corpus]"
   ]
  },
  {
   "cell_type": "code",
   "execution_count": 27,
   "metadata": {},
   "outputs": [
    {
     "name": "stdout",
     "output_type": "stream",
     "text": [
      "\n",
      "Perplexity:  -12.233887401191655\n",
      "\n",
      "Coherence Score:  0.5030077312264531\n"
     ]
    }
   ],
   "source": [
    "# Compute Perplexity\n",
    "print('\\nPerplexity: ', lda_model.log_perplexity(corpus))  # a measure of how good the model is. lower the better.\n",
    "\n",
    "# Compute Coherence Score\n",
    "coherence_model_lda = CoherenceModel(model=lda_model, texts=data_lemmatized, dictionary=id2word, coherence='c_v')\n",
    "coherence_lda = coherence_model_lda.get_coherence()\n",
    "print('\\nCoherence Score: ', coherence_lda)"
   ]
  },
  {
   "cell_type": "code",
   "execution_count": 29,
   "metadata": {},
   "outputs": [],
   "source": [
    "# Visualize the topics\n",
    "pyLDAvis.enable_notebook()"
   ]
  },
  {
   "cell_type": "code",
   "execution_count": 34,
   "metadata": {},
   "outputs": [
    {
     "ename": "TypeError",
     "evalue": "prepare() missing 2 required positional arguments: 'doc_topic_dists' and 'doc_lengths'",
     "output_type": "error",
     "traceback": [
      "\u001b[1;31m---------------------------------------------------------------------------\u001b[0m",
      "\u001b[1;31mTypeError\u001b[0m                                 Traceback (most recent call last)",
      "\u001b[1;32m<ipython-input-34-9374fa81acd2>\u001b[0m in \u001b[0;36m<module>\u001b[1;34m\u001b[0m\n\u001b[1;32m----> 1\u001b[1;33m \u001b[0mvis\u001b[0m \u001b[1;33m=\u001b[0m \u001b[0mpyLDAvis\u001b[0m\u001b[1;33m.\u001b[0m\u001b[0mprepare\u001b[0m\u001b[1;33m(\u001b[0m\u001b[0mlda_model\u001b[0m\u001b[1;33m,\u001b[0m \u001b[0mvocab\u001b[0m\u001b[1;33m=\u001b[0m\u001b[0mcorpus\u001b[0m\u001b[1;33m,\u001b[0m \u001b[0mterm_frequency\u001b[0m\u001b[1;33m=\u001b[0m\u001b[0mid2word\u001b[0m\u001b[1;33m)\u001b[0m\u001b[1;33m\u001b[0m\u001b[1;33m\u001b[0m\u001b[0m\n\u001b[0m\u001b[0;32m      2\u001b[0m \u001b[0mvis\u001b[0m\u001b[1;33m\u001b[0m\u001b[1;33m\u001b[0m\u001b[0m\n",
      "\u001b[1;31mTypeError\u001b[0m: prepare() missing 2 required positional arguments: 'doc_topic_dists' and 'doc_lengths'"
     ]
    }
   ],
   "source": [
    "vis = pyLDAvis.prepare(lda_model, vocab=corpus, term_frequency=id2word)\n",
    "vis"
   ]
  },
  {
   "cell_type": "code",
   "execution_count": null,
   "metadata": {},
   "outputs": [],
   "source": [
    "corpus"
   ]
  },
  {
   "cell_type": "code",
   "execution_count": 38,
   "metadata": {},
   "outputs": [
    {
     "name": "stdout",
     "output_type": "stream",
     "text": [
      "[(0,\n",
      "  '0.042*\"include\" + 0.036*\"program\" + 0.032*\"source\" + 0.028*\"available\" + '\n",
      "  '0.027*\"information\" + 0.023*\"provide\" + 0.021*\"may\" + 0.020*\"number\" + '\n",
      "  '0.019*\"code\" + 0.019*\"also\"'),\n",
      " (1,\n",
      "  '0.824*\"ax\" + 0.063*\"max\" + 0.009*\"dual\" + 0.005*\"film\" + 0.004*\"correction\" '\n",
      "  '+ 0.004*\"brand\" + 0.004*\"plot\" + 0.003*\"payment\" + 0.001*\"bare\" + '\n",
      "  '0.000*\"arrow\"'),\n",
      " (2,\n",
      "  '0.158*\"file\" + 0.072*\"entry\" + 0.048*\"graphic\" + 0.037*\"notice\" + '\n",
      "  '0.029*\"sorry\" + 0.029*\"format\" + 0.028*\"printer\" + 0.025*\"convert\" + '\n",
      "  '0.025*\"hot\" + 0.022*\"cool\"'),\n",
      " (3,\n",
      "  '0.056*\"image\" + 0.056*\"bit\" + 0.050*\"color\" + 0.046*\"chip\" + '\n",
      "  '0.042*\"display\" + 0.038*\"memory\" + 0.036*\"slow\" + 0.035*\"monitor\" + '\n",
      "  '0.034*\"character\" + 0.026*\"board\"'),\n",
      " (4,\n",
      "  '0.065*\"drug\" + 0.052*\"mount\" + 0.046*\"wing\" + 0.045*\"headache\" + '\n",
      "  '0.041*\"recommend\" + 0.041*\"treatment\" + 0.039*\"external\" + 0.036*\"doctor\" + '\n",
      "  '0.034*\"boy\" + 0.031*\"should\"'),\n",
      " (5,\n",
      "  '0.118*\"space\" + 0.037*\"launch\" + 0.033*\"science\" + 0.031*\"scientific\" + '\n",
      "  '0.029*\"orbit\" + 0.025*\"mission\" + 0.025*\"earth\" + 0.023*\"plane\" + '\n",
      "  '0.023*\"satellite\" + 0.021*\"surface\"'),\n",
      " (6,\n",
      "  '0.105*\"israeli\" + 0.069*\"choice\" + 0.063*\"route\" + 0.057*\"bomb\" + '\n",
      "  '0.052*\"processor\" + 0.043*\"link\" + 0.041*\"arab\" + 0.033*\"creation\" + '\n",
      "  '0.031*\"blood\" + 0.030*\"jewish\"'),\n",
      " (7,\n",
      "  '0.171*\"card\" + 0.109*\"player\" + 0.095*\"sale\" + 0.072*\"tape\" + '\n",
      "  '0.043*\"purchase\" + 0.026*\"double\" + 0.025*\"cap\" + 0.023*\"duo\" + '\n",
      "  '0.022*\"registration\" + 0.020*\"expansion\"'),\n",
      " (8,\n",
      "  '0.071*\"drive\" + 0.029*\"high\" + 0.024*\"test\" + 0.022*\"power\" + 0.019*\"speed\" '\n",
      "  '+ 0.019*\"model\" + 0.018*\"fast\" + 0.017*\"disk\" + 0.017*\"design\" + '\n",
      "  '0.017*\"low\"'),\n",
      " (9,\n",
      "  '0.120*\"line\" + 0.060*\"host\" + 0.050*\"organization\" + 0.046*\"nntp_poste\" + '\n",
      "  '0.031*\"thank\" + 0.030*\"reply\" + 0.025*\"mail\" + 0.023*\"help\" + 0.023*\"post\" '\n",
      "  '+ 0.022*\"new\"'),\n",
      " (10,\n",
      "  '0.124*\"car\" + 0.099*\"buy\" + 0.080*\"price\" + 0.067*\"sell\" + 0.065*\"cost\" + '\n",
      "  '0.044*\"pay\" + 0.032*\"family\" + 0.024*\"owner\" + 0.022*\"dealer\" + '\n",
      "  '0.021*\"money\"'),\n",
      " (11,\n",
      "  '0.034*\"year\" + 0.021*\"first\" + 0.016*\"last\" + 0.016*\"time\" + 0.016*\"go\" + '\n",
      "  '0.016*\"team\" + 0.014*\"game\" + 0.012*\"get\" + 0.011*\"next\" + 0.011*\"play\"'),\n",
      " (12,\n",
      "  '0.069*\"system\" + 0.052*\"use\" + 0.034*\"problem\" + 0.030*\"run\" + '\n",
      "  '0.028*\"window\" + 0.024*\"software\" + 0.024*\"driver\" + 0.024*\"work\" + '\n",
      "  '0.024*\"set\" + 0.021*\"machine\"'),\n",
      " (13,\n",
      "  '0.082*\"wire\" + 0.072*\"cpu\" + 0.062*\"bus\" + 0.061*\"center\" + '\n",
      "  '0.055*\"internal\" + 0.043*\"option\" + 0.040*\"upgrade\" + 0.037*\"cable\" + '\n",
      "  '0.032*\"mirror\" + 0.027*\"clock\"'),\n",
      " (14,\n",
      "  '0.029*\"write\" + 0.028*\"would\" + 0.021*\"article\" + 0.018*\"know\" + '\n",
      "  '0.017*\"make\" + 0.017*\"think\" + 0.016*\"be\" + 0.016*\"say\" + 0.012*\"people\" + '\n",
      "  '0.012*\"see\"'),\n",
      " (15,\n",
      "  '0.045*\"kill\" + 0.035*\"child\" + 0.026*\"death\" + 0.025*\"government\" + '\n",
      "  '0.025*\"war\" + 0.024*\"woman\" + 0.024*\"attack\" + 0.024*\"soldier\" + '\n",
      "  '0.023*\"people\" + 0.023*\"man\"'),\n",
      " (16,\n",
      "  '0.044*\"book\" + 0.036*\"member\" + 0.032*\"church\" + 0.030*\"black\" + '\n",
      "  '0.030*\"issue\" + 0.029*\"publish\" + 0.026*\"deny\" + 0.025*\"authority\" + '\n",
      "  '0.023*\"section\" + 0.021*\"clearly\"'),\n",
      " (17,\n",
      "  '0.070*\"gun\" + 0.032*\"state\" + 0.024*\"crime\" + 0.022*\"community\" + '\n",
      "  '0.022*\"weapon\" + 0.021*\"safety\" + 0.021*\"firearm\" + 0.020*\"police\" + '\n",
      "  '0.020*\"ignore\" + 0.019*\"public\"'),\n",
      " (18,\n",
      "  '0.097*\"key\" + 0.049*\"government\" + 0.038*\"public\" + 0.031*\"technology\" + '\n",
      "  '0.029*\"internet\" + 0.027*\"encryption\" + 0.025*\"chip\" + 0.024*\"security\" + '\n",
      "  '0.023*\"season\" + 0.021*\"private\"'),\n",
      " (19,\n",
      "  '0.028*\"evidence\" + 0.023*\"reason\" + 0.022*\"believe\" + 0.019*\"claim\" + '\n",
      "  '0.016*\"sense\" + 0.015*\"exist\" + 0.013*\"people\" + 0.013*\"faith\" + '\n",
      "  '0.013*\"law\" + 0.012*\"say\"')]\n"
     ]
    }
   ],
   "source": [
    "# Print the Keyword in the 10 topics\n",
    "pprint(lda_model.print_topics())"
   ]
  },
  {
   "cell_type": "code",
   "execution_count": 41,
   "metadata": {},
   "outputs": [
    {
     "name": "stdout",
     "output_type": "stream",
     "text": [
      "<gensim.interfaces.TransformedCorpus object at 0x00000292269D3EE0>\n"
     ]
    }
   ],
   "source": [
    "doc_lda = lda_model[corpus]\n",
    "print(doc_lda)"
   ]
  },
  {
   "cell_type": "code",
   "execution_count": null,
   "metadata": {},
   "outputs": [],
   "source": []
  }
 ],
 "metadata": {
  "kernelspec": {
   "display_name": "Coding",
   "language": "python",
   "name": "coding"
  },
  "language_info": {
   "codemirror_mode": {
    "name": "ipython",
    "version": 3
   },
   "file_extension": ".py",
   "mimetype": "text/x-python",
   "name": "python",
   "nbconvert_exporter": "python",
   "pygments_lexer": "ipython3",
   "version": "3.8.5"
  }
 },
 "nbformat": 4,
 "nbformat_minor": 4
}
