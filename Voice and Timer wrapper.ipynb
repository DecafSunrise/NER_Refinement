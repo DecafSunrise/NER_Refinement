{
 "cells": [
  {
   "cell_type": "code",
   "execution_count": 5,
   "metadata": {},
   "outputs": [],
   "source": [
    "import functools\n",
    "import time\n",
    "\n",
    "import humanfriendly\n",
    "\n",
    "import pyttsx3\n",
    "engine = pyttsx3.init()\n",
    "try:\n",
    "    engine.setProperty('voice', engine.getProperty('voices')[1].id)\n",
    "except:\n",
    "    continue\n",
    "    \n",
    "def say(words):\n",
    "    engine.say(words)\n",
    "    engine.runAndWait()"
   ]
  },
  {
   "cell_type": "code",
   "execution_count": 36,
   "metadata": {},
   "outputs": [],
   "source": [
    "def timer(func):\n",
    "    @functools.wraps(func)\n",
    "    def wrapper_timer(*args, **kwargs):\n",
    "        start_time=time.perf_counter()\n",
    "        value = func(*args, **kwargs)\n",
    "        run_time = time.perf_counter()-start_time\n",
    "        donetime = f\"Finished in {humanfriendly.format_timespan(run_time)}\"\n",
    "        say(donetime)\n",
    "        print(donetime)\n",
    "    return wrapper_timer"
   ]
  },
  {
   "cell_type": "code",
   "execution_count": 35,
   "metadata": {},
   "outputs": [],
   "source": [
    "@timer\n",
    "def wastetime():\n",
    "    time.sleep(10)"
   ]
  },
  {
   "cell_type": "code",
   "execution_count": null,
   "metadata": {},
   "outputs": [],
   "source": [
    "wastetime()"
   ]
  }
 ],
 "metadata": {
  "kernelspec": {
   "display_name": "Coding",
   "language": "python",
   "name": "coding"
  },
  "language_info": {
   "codemirror_mode": {
    "name": "ipython",
    "version": 3
   },
   "file_extension": ".py",
   "mimetype": "text/x-python",
   "name": "python",
   "nbconvert_exporter": "python",
   "pygments_lexer": "ipython3",
   "version": "3.8.5"
  }
 },
 "nbformat": 4,
 "nbformat_minor": 4
}
