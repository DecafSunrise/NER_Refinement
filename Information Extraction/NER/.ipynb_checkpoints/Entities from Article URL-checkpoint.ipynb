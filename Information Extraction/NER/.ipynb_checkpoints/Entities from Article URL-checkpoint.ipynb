{
 "cells": [
  {
   "cell_type": "code",
   "execution_count": 1,
   "metadata": {},
   "outputs": [],
   "source": [
    "import spacy\n",
    "from spacy import displacy\n",
    "\n",
    "import requests\n",
    "import boilerpy3\n",
    "from boilerpy3 import extractors"
   ]
  },
  {
   "cell_type": "code",
   "execution_count": 7,
   "metadata": {},
   "outputs": [],
   "source": [
    "# nlp = spacy.load(\"en_core_web_sm\")\n",
    "# nlpTRF = spacy.load(\"en_core_web_trf\")\n",
    "nlp = spacy.load(\"en_core_web_lg\")"
   ]
  },
  {
   "cell_type": "code",
   "execution_count": 5,
   "metadata": {},
   "outputs": [],
   "source": [
    "extractor = extractors.ArticleExtractor()"
   ]
  },
  {
   "cell_type": "code",
   "execution_count": 14,
   "metadata": {},
   "outputs": [],
   "source": [
    "def get_entities(url):\n",
    "    doc = extractor.get_doc_from_url(url)\n",
    "    print(doc.title)\n",
    "    doc2 = nlp(doc.content)\n",
    "    for ent in doc2.ents:\n",
    "        print(ent)"
   ]
  },
  {
   "cell_type": "code",
   "execution_count": 15,
   "metadata": {},
   "outputs": [
    {
     "name": "stdout",
     "output_type": "stream",
     "text": [
      "Biden lifts Trump-era ban on green cards, which blocked most legal immigration to U.S. | KTLA\n",
      "Trump\n",
      "thousands\n",
      "about 14 million\n",
      "the United States\n",
      "437,000\n",
      "California\n",
      "Curtis Morrison\n",
      "thousands\n",
      "U.S.\n",
      "years\n",
      "last year\n",
      "Proclamation 10052\n",
      "the United States\n",
      "the U.S. Chamber of Commerce\n",
      "U.S.\n",
      "Proclamation 10014\n",
      "thousands\n",
      "Biden\n",
      "Trump\n",
      "Muslim\n",
      "the United States\n",
      "Biden\n",
      "only days\n",
      "thousands\n",
      "The United States\n",
      "up to\n",
      "U.S.\n",
      "six months\n",
      "Biden\n",
      "pandemic-era\n",
      "U.S.\n",
      "each year\n",
      "55,000\n",
      "80,000\n"
     ]
    }
   ],
   "source": [
    "get_entities(r\"https://ktla.com/news/local-news/biden-lifts-trump-era-ban-on-green-cards-which-blocked-most-legal-immigration-to-u-s/\")"
   ]
  },
  {
   "cell_type": "code",
   "execution_count": null,
   "metadata": {},
   "outputs": [],
   "source": []
  }
 ],
 "metadata": {
  "kernelspec": {
   "display_name": "Coding",
   "language": "python",
   "name": "coding"
  },
  "language_info": {
   "codemirror_mode": {
    "name": "ipython",
    "version": 3
   },
   "file_extension": ".py",
   "mimetype": "text/x-python",
   "name": "python",
   "nbconvert_exporter": "python",
   "pygments_lexer": "ipython3",
   "version": "3.8.5"
  }
 },
 "nbformat": 4,
 "nbformat_minor": 4
}
